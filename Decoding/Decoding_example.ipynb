{
  "nbformat": 4,
  "nbformat_minor": 0,
  "metadata": {
    "colab": {
      "provenance": [],
      "gpuType": "T4"
    },
    "kernelspec": {
      "name": "python3",
      "display_name": "Python 3"
    },
    "language_info": {
      "name": "python"
    },
    "accelerator": "GPU"
  },
  "cells": [
    {
      "cell_type": "code",
      "execution_count": null,
      "metadata": {
        "id": "KMVRm8e6LW0M"
      },
      "outputs": [],
      "source": [
        "!pip install transformers"
      ]
    },
    {
      "cell_type": "code",
      "source": [
        "from transformers import GPT2LMHeadModel, GPT2Tokenizer\n",
        "import torch\n",
        "\n",
        "# Load pre-trained model and tokenizer\n",
        "model_name = \"gpt2\"\n",
        "model = GPT2LMHeadModel.from_pretrained(model_name)\n",
        "tokenizer = GPT2Tokenizer.from_pretrained(model_name)\n",
        "device = torch.device(\"cuda\" if torch.cuda.is_available() else \"cpu\")\n",
        "model.to(device)"
      ],
      "metadata": {
        "id": "aLzyS0UUL88c"
      },
      "execution_count": null,
      "outputs": []
    },
    {
      "cell_type": "code",
      "source": [
        "def generate_text(prompt, max_length=150, num_return_sequences=1, **kwargs):\n",
        "    input_ids = tokenizer.encode(prompt, return_tensors=\"pt\").to(device)\n",
        "    output = model.generate(input_ids, max_length=max_length, num_return_sequences=num_return_sequences, **kwargs)\n",
        "    return [tokenizer.decode(o, skip_special_tokens=True) for o in output]"
      ],
      "metadata": {
        "id": "niu39jMANS51"
      },
      "execution_count": 5,
      "outputs": []
    },
    {
      "cell_type": "code",
      "source": [
        "prompt = \"The year is 2145. Earth has become a unified world government, where humans and robots live in harmony. Together, they have ventured into deep space exploration. During a routine mission to a distant galaxy, the crew of the spaceship Odyssey receives a cryptic signal. This signal leads them to an ancient alien artifact, which holds secrets that could alter the fate of the universe. As they attempt to decipher its meaning, tensions rise between the human and robot crew members, each with their own interpretation of the artifact's purpose.\"\n",
        "\n"
      ],
      "metadata": {
        "id": "cV9lLu6nNS2S"
      },
      "execution_count": 6,
      "outputs": []
    },
    {
      "cell_type": "code",
      "source": [
        "# Greedy Decoding\n",
        "greedy_text = generate_text(prompt, max_length=150)\n",
        "print(\"Greedy Decoding:\")\n",
        "print(greedy_text[0])\n",
        "\n",
        "# Beam Search\n",
        "beam_text = generate_text(prompt, max_length=150, num_beams=5, early_stopping=True)\n",
        "print(\"Beam Search Decoding:\")\n",
        "print(beam_text[0])\n",
        "\n",
        "# Top-k Sampling\n",
        "top_k_text = generate_text(prompt, max_length=150, do_sample=True, top_k=150)\n",
        "print(\"Top-k Sampling:\")\n",
        "print(top_k_text[0])\n",
        "\n",
        "# Top-p Sampling\n",
        "top_p_text = generate_text(prompt, max_length=150, do_sample=True, top_p=0.92)\n",
        "print(\"Top-p Sampling:\")\n",
        "print(top_p_text[0])\n",
        "\n",
        "# Temperature Sampling\n",
        "temperature_text = generate_text(prompt, max_length=150, do_sample=True, temperature=0.7)\n",
        "print(\"Temperature Sampling:\")\n",
        "print(temperature_text[0])\n"
      ],
      "metadata": {
        "colab": {
          "base_uri": "https://localhost:8080/"
        },
        "id": "rym_wutXMf6I",
        "outputId": "26d7dae3-b14c-4207-957b-268e7211fa5c"
      },
      "execution_count": 9,
      "outputs": [
        {
          "output_type": "stream",
          "name": "stderr",
          "text": [
            "The attention mask and the pad token id were not set. As a consequence, you may observe unexpected behavior. Please pass your input's `attention_mask` to obtain reliable results.\n",
            "Setting `pad_token_id` to `eos_token_id`:50256 for open-end generation.\n",
            "The attention mask and the pad token id were not set. As a consequence, you may observe unexpected behavior. Please pass your input's `attention_mask` to obtain reliable results.\n",
            "Setting `pad_token_id` to `eos_token_id`:50256 for open-end generation.\n"
          ]
        },
        {
          "output_type": "stream",
          "name": "stdout",
          "text": [
            "Greedy Decoding:\n",
            "The year is 2145. Earth has become a unified world government, where humans and robots live in harmony. Together, they have ventured into deep space exploration. During a routine mission to a distant galaxy, the crew of the spaceship Odyssey receives a cryptic signal. This signal leads them to an ancient alien artifact, which holds secrets that could alter the fate of the universe. As they attempt to decipher its meaning, tensions rise between the human and robot crew members, each with their own interpretation of the artifact's purpose.\n",
            "\n",
            "The Odyssey is a space opera that takes place in the year 2145. The story takes place in the year 2145, and the story is set in the year 2145. The story takes place in the year 2145\n"
          ]
        },
        {
          "output_type": "stream",
          "name": "stderr",
          "text": [
            "The attention mask and the pad token id were not set. As a consequence, you may observe unexpected behavior. Please pass your input's `attention_mask` to obtain reliable results.\n",
            "Setting `pad_token_id` to `eos_token_id`:50256 for open-end generation.\n"
          ]
        },
        {
          "output_type": "stream",
          "name": "stdout",
          "text": [
            "Beam Search Decoding:\n",
            "The year is 2145. Earth has become a unified world government, where humans and robots live in harmony. Together, they have ventured into deep space exploration. During a routine mission to a distant galaxy, the crew of the spaceship Odyssey receives a cryptic signal. This signal leads them to an ancient alien artifact, which holds secrets that could alter the fate of the universe. As they attempt to decipher its meaning, tensions rise between the human and robot crew members, each with their own interpretation of the artifact's purpose. Written by <jhailey@hotmail.com>\n"
          ]
        },
        {
          "output_type": "stream",
          "name": "stderr",
          "text": [
            "The attention mask and the pad token id were not set. As a consequence, you may observe unexpected behavior. Please pass your input's `attention_mask` to obtain reliable results.\n",
            "Setting `pad_token_id` to `eos_token_id`:50256 for open-end generation.\n"
          ]
        },
        {
          "output_type": "stream",
          "name": "stdout",
          "text": [
            "Top-k Sampling:\n",
            "The year is 2145. Earth has become a unified world government, where humans and robots live in harmony. Together, they have ventured into deep space exploration. During a routine mission to a distant galaxy, the crew of the spaceship Odyssey receives a cryptic signal. This signal leads them to an ancient alien artifact, which holds secrets that could alter the fate of the universe. As they attempt to decipher its meaning, tensions rise between the human and robot crew members, each with their own interpretation of the artifact's purpose. Humans must either pursue its origins in the new, multihorped cosmos or take control of it in their own time. In the midst of time travel, an unknown alien civilization is emerging. They are led by the planet Het\n"
          ]
        },
        {
          "output_type": "stream",
          "name": "stderr",
          "text": [
            "The attention mask and the pad token id were not set. As a consequence, you may observe unexpected behavior. Please pass your input's `attention_mask` to obtain reliable results.\n",
            "Setting `pad_token_id` to `eos_token_id`:50256 for open-end generation.\n"
          ]
        },
        {
          "output_type": "stream",
          "name": "stdout",
          "text": [
            "Top-p Sampling:\n",
            "The year is 2145. Earth has become a unified world government, where humans and robots live in harmony. Together, they have ventured into deep space exploration. During a routine mission to a distant galaxy, the crew of the spaceship Odyssey receives a cryptic signal. This signal leads them to an ancient alien artifact, which holds secrets that could alter the fate of the universe. As they attempt to decipher its meaning, tensions rise between the human and robot crew members, each with their own interpretation of the artifact's purpose. The plot of the third book begins with an investigation into the alien artifact and the crew. Written by garykmcd\n",
            "Temperature Sampling:\n",
            "The year is 2145. Earth has become a unified world government, where humans and robots live in harmony. Together, they have ventured into deep space exploration. During a routine mission to a distant galaxy, the crew of the spaceship Odyssey receives a cryptic signal. This signal leads them to an ancient alien artifact, which holds secrets that could alter the fate of the universe. As they attempt to decipher its meaning, tensions rise between the human and robot crew members, each with their own interpretation of the artifact's purpose. Written by Anonymous\n"
          ]
        }
      ]
    }
  ]
}